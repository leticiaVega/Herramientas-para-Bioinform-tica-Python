{
 "cells": [
  {
   "cell_type": "markdown",
   "id": "5ddf7895-bc7d-43c2-8150-99226457fd63",
   "metadata": {},
   "source": [
    "<img src=\"img/LogosJuntos.png\"/>"
   ]
  },
  {
   "cell_type": "markdown",
   "id": "907299e4-9912-4da2-82bb-51f6f4ba34ac",
   "metadata": {},
   "source": [
    "<center>\n",
    "            Lección tomada y traducida de <a href=\"https://swcarpentry.github.io/python-novice-inflammation/05-loop.html\" target=\"_blank\">python-novice-inflammation, lección 5</a>\n",
    "        </center>"
   ]
  },
  {
   "cell_type": "markdown",
   "id": "fd457e61-8713-431c-b517-585f6a5ad0ba",
   "metadata": {},
   "source": [
    "# Loops: repitiendo acciones"
   ]
  },
  {
   "cell_type": "markdown",
   "id": "6e79d501-a2ce-47dc-b6e2-41064e506569",
   "metadata": {},
   "source": [
    "## Pregunta:\n",
    "\n",
    "> ¿Cómo puedo hacer las mismas operaciones con muchos valores diferentes?\n",
    "\n",
    "## Objetivos:\n",
    "> + Explicar qué es un ciclo **```for```**\n",
    "> + Escribir ciclos **```for```** para repetir cálculos sencillos\n",
    "> + Verificar los cambios de la variable que controla el ciclo a medida que éste se ejecuta\n",
    "> + Verificar de los cambios en otras variables a medida que son actualizadas en un ciclo **```for```**"
   ]
  },
  {
   "cell_type": "markdown",
   "id": "d5ec14cb-3ba2-411a-b58c-a923686c41fc",
   "metadata": {},
   "source": [
    "En la lección sobre la visualización de datos, escribimos código para graficar valores de interés del conjunto de datos de inflamación (inflamation-01.csv). Hasta este momento tenemos una docena de conjuntos de datos y potencialmente habrá más, si el Dr. Maverick puede mantener su ritmo de ensayos clínicos sorprendentemente rápido. Si queremos crear gráficos para todos nuestros conjuntos de datos con una sola instrucción, tendremos que indicarle a la computadora cómo hacerlo de manera repetitiva.\n",
    "\n",
    "<center><img src=\"img/graficasAgrupadas.png\" width=900 height=900 /></center>\n",
    "\n",
    "Un ejemplo de una tarea repetitiva, es acceder a los números de una lista, lo cual se puede hacer imprimiendo cada número en una línea propia, para realizar esta tarea retomaremos la lista denominada **```odds```**, creada en la lección de listas."
   ]
  },
  {
   "cell_type": "code",
   "execution_count": 2,
   "id": "fd130842-e3d1-4488-a6a7-b2d3e1977c1c",
   "metadata": {},
   "outputs": [],
   "source": [
    "odds = [1,3,5,7]"
   ]
  },
  {
   "cell_type": "markdown",
   "id": "ba8da474-ff68-4cd3-aa68-cad76a5aa688",
   "metadata": {},
   "source": [
    "Como ya se mencionó en la lección 4, ***una lista es básicamente una colección ordenada de elementos***, y cada elemento tiene un número único asociado a él (su índice). Esto significa que ***podemos acceder a los elementos de la lista utilizando sus índices***. \n",
    "\n",
    "Por ejemplo, podemos obtener el primer número de la lista **```odds```**, utilizando **```odds[0]```**. Una forma de imprimir cada número es utilizar cuatro sentencias **```print```**:"
   ]
  },
  {
   "cell_type": "code",
   "execution_count": null,
   "id": "613236b2-264d-4c81-8de3-719094d69807",
   "metadata": {},
   "outputs": [],
   "source": [
    "print(odds[0])\n",
    "print(odds[1])\n",
    "print(odds[2])\n",
    "print(odds[3])"
   ]
  },
  {
   "cell_type": "markdown",
   "id": "381d5ed8-35fa-4cd8-8787-f0b28766a19a",
   "metadata": {},
   "source": [
    "## Este es un mal enfoque por tres razones:\n",
    "> 1. **No es escalable**. Imagine que necesita imprimir una lista que tiene cientos de elementos. Podría ser más fácil escribirlos manualmente.\n",
    "> 1. **Difícil de mantener**. Si queremos decorar cada elemento impreso con un asterisco o cualquier otro carácter, tendríamos que cambiar cuatro líneas de código. Aunque esto podría no ser un problema para las listas pequeñas, definitivamente lo sería para las más largas.\n",
    "> 1. **Frágil**. Si lo utilizamos con una lista que tiene más elementos de los que habíamos previsto inicialmente, sólo mostrará parte de los elementos de la lista. Una lista más corta, en cambio, provocará un error porque estará intentando mostrar elementos de la lista que no existen."
   ]
  },
  {
   "cell_type": "code",
   "execution_count": null,
   "id": "08dccd50-7987-4a42-8c19-0c09561ce14e",
   "metadata": {
    "scrolled": true
   },
   "outputs": [],
   "source": [
    "odds = [1, 3, 5]\n",
    "\n",
    "print(odds[0])\n",
    "print(odds[1])\n",
    "print(odds[2])\n",
    "print(odds[3])"
   ]
  },
  {
   "cell_type": "markdown",
   "id": "e6b2394d-ddb6-44fa-946f-2fa187f87f28",
   "metadata": {},
   "source": [
    "### Un enfoque mejor es un ciclo **```for```**. La forma general del ciclo es:\n",
    "\n",
    "<center><img src=\"img/forImage3.png\" width=600 height=600 /></center>\n",
    "\n",
    "Utilicemos un ciclo **```for```** para imprimir los valore de la lista impares"
   ]
  },
  {
   "cell_type": "code",
   "execution_count": 8,
   "id": "5a2120f5-a16b-4b23-96bc-d06b4d82184c",
   "metadata": {},
   "outputs": [],
   "source": [
    "odds = [1, 3, 5, 7]\n",
    "# Aqui ponemos las instrucciones repetitivas\n",
    "\n",
    "for num in odds:\n",
    "    print(num)\n",
    "\n"
   ]
  },
  {
   "cell_type": "markdown",
   "id": "99c5459e-355d-46ec-95aa-f94ea74793c4",
   "metadata": {},
   "source": [
    "La versión mejorada utiliza un bucle **```for```** para repetir una operación, en este caso imprimir una vez por cada elemento de la lista. Esto es más corto, sobre todo si quisieramos imprimir cada número de una lista muy extensa, y también es más robusto."
   ]
  },
  {
   "cell_type": "code",
   "execution_count": 9,
   "id": "80d90b1c-c911-4dbf-919a-e546c9ed0456",
   "metadata": {},
   "outputs": [],
   "source": [
    "# ¿Qué sucede si agregamos algunos elementos a la lista?\n",
    "# ¡Puedo seguir ultilizando el mismo for?\n",
    "\n",
    "odds = [1, 3, 5, 7, 9, 11]\n",
    "\n",
    "# Colocar las instrucciones repetitivas\n",
    "\n",
    "for num in odds:\n",
    "    print(num)\n",
    "\n"
   ]
  },
  {
   "cell_type": "markdown",
   "id": "08b2f269-f144-425f-aee2-5fb787488cba",
   "metadata": {},
   "source": [
    "\n",
    "<figure>\n",
    "    <center><img src=\"img/forPrint.png\" width=400 height=200 /></center>\n",
    "    <figcaption>\n",
    "        <center>\n",
    "            Imagen obtenida de <a href=\"https://swcarpentry.github.io/python-novice-inflammation/05-loop.html\" target=\"_blank\">python-novice-inflammation, lección 5</a>\n",
    "        </center>\n",
    "    </figcaption>\n",
    "</figure>"
   ]
  },
  {
   "cell_type": "markdown",
   "id": "7acdad3f-d640-4e1d-afab-6db8d50acff4",
   "metadata": {},
   "source": [
    "donde cada número (**```num```**) de la variable **```odds```** se se extrae e imprime uno tras otro. Mientras que, los otros números del diagrama indican en qué repetición del ciclo se imprimió el número (siendo ***1*** la primera repetición del ciclo y ***6*** la última).\n",
    "\n",
    "### Reglas importantes\n",
    "> 1. Podemos llamar como queramos a la ***variable del ciclo***\n",
    "> 2. **Colocar** dos puntos **(:) al final de la línea que inicia el ciclo**\n",
    "> 3. **Indentar todas las instrucciones que queramos ejecutar dentro del ciclo**, todo lo que se indenta después de la sentencia ```for``` pertenece al ciclo.\n",
    "\n",
    "En el ejemplo anterior, la ***variable del ciclo*** recibió el nombre ```num```. Podemos elegir el nombre que queramos para estas variables. Podríamos fácilmente haber elegido el nombre banana para la ***variable del ciclo*** , siempre y cuando utilicemos el mismo nombre cuando invoquemos la variable dentro del ciclo:"
   ]
  },
  {
   "cell_type": "code",
   "execution_count": null,
   "id": "d6bc6bc0-ca97-44f2-ba6d-0304245048d7",
   "metadata": {},
   "outputs": [],
   "source": [
    "# Utilizando banana como variable del ciclo\n",
    "\n",
    "odds = [1, 3, 5, 7, 9, 11]\n",
    "\n",
    "for banana in odds:\n",
    "    print(banana)\n",
    "\n",
    "\n"
   ]
  },
  {
   "cell_type": "markdown",
   "id": "b78e4636-b271-44db-99b3-2f59a2d2b010",
   "metadata": {},
   "source": [
    "Es una **buena práctica elegir nombres de variables que sean significativos**, de lo contrario sería más difícil entender lo que está haciendo el ciclo.\n",
    "\n",
    "Utilicemos un ciclo **```for```** para imprimir los valore de la lista impares"
   ]
  },
  {
   "cell_type": "code",
   "execution_count": null,
   "id": "41dd8f17-a09c-4fd4-8cbf-c4d0e6acfd83",
   "metadata": {},
   "outputs": [],
   "source": [
    "# Contadores\n",
    "\n",
    "length = 0\n",
    "names = ['Curie', 'Darwin', 'Turing']\n",
    "for value in names:\n",
    "    print(value)\n",
    "    length = length + 1\n",
    "print('There are', length, 'names in the list.')\n"
   ]
  },
  {
   "cell_type": "markdown",
   "id": "d4625af7-a4ce-453b-8970-fee6a44d3fe4",
   "metadata": {},
   "source": [
    "Vale la pena analizar paso a paso la ejecución de este pequeño programa. Como hay tres nombres en **```names```**, la instrucción de la línea 4 se ejecutará tres veces. La primera vez, la variable **```length```** es cero (el valor que se le asignó en la línea 1) y **```value```** es *Curie*. La instrucción 4 suma 1 al antiguo valor de **```length```**, la actualiza con el valor de 1. La siguiente vez, el valor es *Darwin* y **```length```** incrementa su valor y se actualiza con el valor 2. Después de una repetición más, **```length```** es 3; como no queda nada en **```names```** para que Python lo procese, el ciclo termina y la función **```print```** de la línea 5 imprime la respuesta final.\n",
    "\n",
    "Hay que tener en cuenta que una variable de ciclo es aquella que se utiliza para registrar el progreso del ciclo. Esta variable sigue existiendo una vez finalizado el ciclo, y también podemos reutilizar variables definidas previamente como variables de ciclo:"
   ]
  },
  {
   "cell_type": "code",
   "execution_count": null,
   "id": "73d40045-f137-4e46-bf30-81e101c16905",
   "metadata": {},
   "outputs": [],
   "source": [
    "# verificando el valor de value salendo del ciclo\n",
    "\n",
    "value = 'Rosalind'\n",
    "for value in ['Curie', 'Darwin', 'Turing']:\n",
    "    print(name)\n",
    "print('después del ciclo, value es', value)\n"
   ]
  },
  {
   "cell_type": "markdown",
   "id": "1d5f1edb-1897-4f47-b5e1-f2fdad7557c7",
   "metadata": {},
   "source": [
    "En Python, calcular la longitud de un objeto es una operación muy común y se puede hacer fácilmente utilizando la función incorporada **```len```**, por ejemplo:"
   ]
  },
  {
   "cell_type": "code",
   "execution_count": null,
   "id": "9d5c23b5-7f5e-4e81-9326-d84b6f31842c",
   "metadata": {},
   "outputs": [],
   "source": [
    "len(len([0, 1, 2, 3]))"
   ]
  },
  {
   "cell_type": "markdown",
   "id": "eab046ba-bd65-499d-bb1d-93844c57d2e5",
   "metadata": {},
   "source": [
    "**```len```** es mucho más rápido que cualquier función que pudiéramos escribir nosotros mismos, y mucho más fácil de leer que un ciclo de dos líneas."
   ]
  },
  {
   "cell_type": "markdown",
   "id": "3dc11bdd-a6f5-4870-8784-f226cfd0cc50",
   "metadata": {},
   "source": [
    "<div class=\"alert-info\">\n",
    "\n",
    "## Ejercicios propuestos\n",
    "\n",
    "</div>"
   ]
  },
  {
   "cell_type": "markdown",
   "id": "1968824d-9029-455b-8963-24b0e8ba7262",
   "metadata": {},
   "source": [
    "## De 1 a N"
   ]
  },
  {
   "cell_type": "markdown",
   "id": "b9911344-8ac2-4193-9fa4-13b1cd401ee3",
   "metadata": {},
   "source": [
    "**```Python```** tiene una función llamada ****```range``` que genera una secuencia de números. **```range```** puede aceptar 1, 2 o 3 parámetros.\n",
    "\n",
    "> 1. Si se da un parámetro, **```range```** genera una secuencia de esa longitud, comenzando en cero e incrementando en 1. Por ejemplo, **```range(3)```** produce los números 0, 1, 2.\n",
    "> 2. Si se dan dos parámetros, **```range```** comienza en el primero y termina justo antes del segundo, incrementándose en uno. Por ejemplo, **```range(2, 5)```** produce 2, 3, 4.\n",
    "> 3. Si se dan 3 parámetros, **```range```** empieza en el primero, termina justo antes del segundo y se incrementa en el tercero. Por ejemplo, **```range(3, 10, 2)```** produce 3, 5, 7, 9.\n",
    "\n",
    "Usando la función **```range```**, escribe un ciclo que imprima los 3 primeros números naturales:"
   ]
  },
  {
   "cell_type": "markdown",
   "id": "55f2816e-fb74-4b99-bdd1-b00c4ba8d8a3",
   "metadata": {},
   "source": [
    "## Entendiendo el ciclo\n",
    "\n",
    "Dado el siguiente ciclo:"
   ]
  },
  {
   "cell_type": "raw",
   "id": "3e84c8da-ec0e-4746-9635-41b4b34a5d48",
   "metadata": {},
   "source": [
    "word = 'oxygen'\n",
    "for letter in word:\n",
    "    print(letter)"
   ]
  },
  {
   "cell_type": "markdown",
   "id": "0af14607-aafc-4d71-a1cd-d364393e3936",
   "metadata": {},
   "source": [
    "¿Cuántas veces se ejecutan las instrucciones del ciclo?\n",
    "\n",
    "> 1. 3 veces\n",
    "> 2. 4 veces\n",
    "> 3. 5 veces\n",
    "> 4. 6 veces"
   ]
  },
  {
   "cell_type": "markdown",
   "id": "f8db3d53-ac37-4091-9841-c2a682dbe3ab",
   "metadata": {},
   "source": [
    "## Cálculo de potencias con ciclos\n",
    "\n",
    "Understanding the loops"
   ]
  },
  {
   "cell_type": "code",
   "execution_count": 12,
   "id": "08382d2c-b749-45fd-8fab-8b6cd4b32096",
   "metadata": {},
   "outputs": [
    {
     "name": "stdout",
     "output_type": "stream",
     "text": [
      "125\n"
     ]
    }
   ],
   "source": [
    "# El ** es el operador que me permite elevar un número a una potencia\n",
    "\n",
    "print(5 ** 3)\n"
   ]
  },
  {
   "cell_type": "markdown",
   "id": "7e3ea651-38b8-4372-9003-829f266764b7",
   "metadata": {},
   "source": [
    "Escribe un ciclo que calcule el mismo resultado que **```5 ** 3```** utilizando la multiplicación (y sin exponenciación)."
   ]
  },
  {
   "cell_type": "markdown",
   "id": "88d70029-759c-43f5-9cdb-778a1fb5a6f7",
   "metadata": {},
   "source": [
    "## Suma de elementos de una lista\n",
    "\n",
    "Escribe un ciclo que calcule la suma de los elementos de una lista e imprima el valor final, pror ejemplo si la lista es [124, 402, 36] imprime 562"
   ]
  },
  {
   "cell_type": "markdown",
   "id": "d6264368-3963-4945-9ba8-1c9e24ba56c7",
   "metadata": {},
   "source": [
    "## Cálculo del valor de un polinómio\n",
    "\n",
    "La función **```enumerate```** toma una secuencia (por ejemplo, una lista) y genera una nueva secuencia de la misma longitud. Cada elemento de la nueva secuencia es un par compuesto por el índice (0, 1, 2,...) y el valor de la secuencia original:"
   ]
  },
  {
   "cell_type": "code",
   "execution_count": null,
   "id": "48706e8a-caaa-43ca-8819-49d31d1be1a8",
   "metadata": {},
   "outputs": [],
   "source": [
    "for idx, val in enumerate(a_list):\n",
    "    # Do something using idx and val"
   ]
  },
  {
   "cell_type": "markdown",
   "id": "d0776e65-c9c1-4298-a7ac-d33af49098f7",
   "metadata": {},
   "source": [
    "El código anterior recorre **```a_list```**, asignando el índice a **```idx```** y el valor a **```val```**.\n",
    "Suponga que ha codificado un polinomio como una lista de coeficientes de la siguiente manera: el primer elemento es el término constante, el segundo elemento es el coeficiente del término lineal, el tercero es el coeficiente del término cuadrático, donde el polinomio es de la forma:\n",
    "\n",
    "$𝑎𝑥^0+𝑏𝑥^1+𝑐𝑥^2$"
   ]
  },
  {
   "cell_type": "code",
   "execution_count": 11,
   "id": "06638043-336d-440e-9dfa-feaa5bde2eab",
   "metadata": {},
   "outputs": [
    {
     "name": "stdout",
     "output_type": "stream",
     "text": [
      "97\n"
     ]
    }
   ],
   "source": [
    "x = 5\n",
    "coefs = [2, 4, 3]\n",
    "y = coefs[0] * x**0 + coefs[1] * x**1 + coefs[2] * x**2\n",
    "print(y)"
   ]
  },
  {
   "cell_type": "markdown",
   "id": "2cbc2378-11bd-430b-bb7d-269e8ca367f3",
   "metadata": {},
   "source": [
    "Escribe un ciclo utilizando **```enumerate(coefs)```** que calcule el valor **```y```** de cualquier polinomio, dados **```x```** y **```coefs```**."
   ]
  },
  {
   "cell_type": "markdown",
   "id": "0c7e3f2a-6552-4e94-a9ad-a1e68bf57e6d",
   "metadata": {},
   "source": [
    "<div class=\"alert-info\">\n",
    "    \n",
    "## Puntos clave:\n",
    "\n",
    "> + Utilice la variable for en la secuencia para procesar los elementos de una secuencia de uno en uno.\n",
    "> + El cuerpo de un bucle for debe tener sangría.\n",
    "> + Utilice len(cosa) para determinar la longitud de algo que contiene otros valores.\n",
    "\n",
    "</div>"
   ]
  },
  {
   "cell_type": "markdown",
   "id": "2160e15d-20a1-4923-9660-39e02c4f2c2a",
   "metadata": {},
   "source": [
    "<img src=\"img/LogosJuntos.png\"/>"
   ]
  },
  {
   "cell_type": "markdown",
   "id": "abd5406b-1cf2-49a6-90db-bebc4098c9bc",
   "metadata": {},
   "source": [
    "<center>\n",
    "            Lección tomada y traducida de <a href=\"https://swcarpentry.github.io/python-novice-inflammation/06-files.html\" target=\"_blank\">python-novice-inflammation, lección 6</a>\n",
    "        </center>"
   ]
  },
  {
   "cell_type": "markdown",
   "id": "39289908-2784-436e-b040-cb5aa2d90d73",
   "metadata": {},
   "source": [
    "# Análisis de datos de diversos archivos"
   ]
  },
  {
   "cell_type": "markdown",
   "id": "30b3ab2c-161e-4058-9b64-f9376d3c81e7",
   "metadata": {},
   "source": [
    "## Pregunta:\n",
    "\n",
    "> ¿Cómo puedo realizar las mismas operaciones en varios archivos diferentes?\n",
    "\n",
    "## Objetivos:\n",
    "> + Hacer uso de la biblioteca **```glob```** para obtener los nombres de archivos que coincidan con un patrón comodín.\n",
    "> + Escribir un ciclo **```for```** para procesar múltiples archivos."
   ]
  },
  {
   "cell_type": "markdown",
   "id": "f2ea2824-e726-4e72-9ffe-0b3ea5baff04",
   "metadata": {},
   "source": [
    "Para procesar todos nuestros datos de inflamación, necesitamos una forma de **obtener una lista de todos los archivos de nuestro directorio** de datos cuyos nombres **empiecen** por **inflamación-** y **terminen** por **.csv**. La siguiente biblioteca nos ayudará a conseguirlo:"
   ]
  },
  {
   "cell_type": "code",
   "execution_count": 14,
   "id": "8c89467d-fc50-4480-ac9c-b2ec2d055372",
   "metadata": {},
   "outputs": [],
   "source": [
    "import glob"
   ]
  },
  {
   "cell_type": "markdown",
   "id": "25f043d0-f056-4558-9c21-64f8ce9ea85f",
   "metadata": {},
   "source": [
    "La biblioteca **```glob```** proporciona una función, también llamada **```glob```**, que permite encontrar archivos y directorios cuyos nombres coincidan con un patrón determinado. Los patrones se especifican como cadenas de texto, y se pueden utilizar los siguientes caracteres especiales:\n",
    "\n",
    "> + *: Coincide con cero o más caracteres.\n",
    "> + ?: Coincide con un solo carácter."
   ]
  },
  {
   "cell_type": "code",
   "execution_count": null,
   "id": "545a628e-8948-464a-b79b-5e86caff2a95",
   "metadata": {},
   "outputs": [],
   "source": [
    "print(glob.glob('data/inflammation*.csv' ))"
   ]
  },
  {
   "cell_type": "markdown",
   "id": "ba312570-db91-4fd4-9ff8-9375212144b0",
   "metadata": {},
   "source": [
    "Como podemos observar, el resultado de **```glob.glob()```** es una lista de rutas de archivos y directorios, ordenada de forma arbitraria. Esto significa que podemos iterar sobre esa lista y realizar alguna acción con cada archivo. En nuestro caso, lo que queremos hacer es generar un conjunto de gráficos para cada archivo de nuestro conjunto de datos de inflamación.\n",
    "\n",
    "Si solo quisieramos analizar los tres primeros archivos, en orden alfabético, podemos usar la función incorporada **```sorted()```** para generar una nueva lista ordenada a partir de la salida de **```glob.glob()```**."
   ]
  },
  {
   "cell_type": "code",
   "execution_count": null,
   "id": "a67a3d42-bd7a-461f-85e5-181646d898f8",
   "metadata": {},
   "outputs": [],
   "source": [
    "import glob\n",
    "import numpy\n",
    "import matplotlib.pyplot\n",
    "\n",
    "filenames = sorted(glob.glob('data/inflammation*.csv'))\n",
    "filenames = filenames[0:3]\n",
    "for filename in filenames:\n",
    "    print(filename)\n",
    "    \n",
    "    # Este bloque de código es el mismo que utilizamos en la lección 3, para visualizar\n",
    "    # gráficas agrupadas\n",
    "    \n",
    "    data = numpy.loadtxt(fname=filename, delimiter=',')\n",
    "\n",
    "    fig = matplotlib.pyplot.figure(figsize=(10.0, 3.0))\n",
    "\n",
    "    axes1 = fig.add_subplot(1, 3, 1)\n",
    "    axes2 = fig.add_subplot(1, 3, 2)\n",
    "    axes3 = fig.add_subplot(1, 3, 3)\n",
    "\n",
    "    axes1.set_ylabel('average')\n",
    "    axes1.plot(numpy.mean(data, axis=0))\n",
    "\n",
    "    axes2.set_ylabel('max')\n",
    "    axes2.plot(numpy.amax(data, axis=0))\n",
    "\n",
    "    axes3.set_ylabel('min')\n",
    "    axes3.plot(numpy.amin(data, axis=0))\n",
    "\n",
    "    fig.tight_layout()\n",
    "    matplotlib.pyplot.show()"
   ]
  },
  {
   "cell_type": "markdown",
   "id": "a1a9d1e9-6c62-4f90-ae0d-0d303953fe3e",
   "metadata": {},
   "source": [
    "Los gráficos generados para el segundo archivo del ensayo clínico son muy similares a los del primer archivo. Los gráficos de las medias muestran fluctuaciones *\"ruidosas\"* casi idénticas, mientras que los gráficos de los máximos presentan la misma subida y bajada lineales. Por otra parte, los gráficos de los mínimos muestran patrones en forma de escalera muy similares.\n",
    "\n",
    "El tercer conjunto de datos presenta gráficos de medias y máximos mucho más parecidos, lo que hace que resulten menos *raro* en comparación con los dos primeros conjuntos de datos. Sin embargo, el gráfico de mínimos revela que el valor mínimo en el tercer conjunto de datos es siempre cero en todos los días de la prueba. Si elaboramos un mapa de calor para este tercer archivo de datos, obtendremos lo siguiente:"
   ]
  },
  {
   "cell_type": "markdown",
   "id": "326a260c-a693-4463-8cd9-36091499a7c9",
   "metadata": {},
   "source": [
    "<figure>\n",
    "    <center><img src=\"img/Heatmap.png\" width=400 height=500 /></center>\n",
    "    <figcaption>\n",
    "        <center>\n",
    "            Imagen obtenida de <a href=\"https://swcarpentry.github.io/python-novice-inflammation/06-files.html\" target=\"_blank\">python-novice-inflammation, lección 6</a>\n",
    "        </center>\n",
    "    </figcaption>\n",
    "</figure>"
   ]
  },
  {
   "cell_type": "markdown",
   "id": "c3ed6bf8-5f7e-4404-95d4-7ae0319f0f3f",
   "metadata": {},
   "source": [
    "Podemos observar que hay valores cero distribuidos de manera esporádica entre todos los pacientes y días del ensayo clínico, lo que sugiere posibles problemas en la recopilación de datos a lo largo del estudio. Además, se puede ver que el último paciente no presentó ningún brote de inflamación durante todo el ensayo, ¡lo que sugiere que podría ni siquiera padecer artritis!"
   ]
  },
  {
   "cell_type": "markdown",
   "id": "b5ecc0b1-2966-4e80-88f1-00b9718b5427",
   "metadata": {},
   "source": [
    "<div class=\"alert-info\">\n",
    "\n",
    "## Ejercicios propuestos\n",
    "\n",
    "</div>"
   ]
  },
  {
   "cell_type": "markdown",
   "id": "941b9b43-cf77-465b-9047-ae6c6b5a3249",
   "metadata": {},
   "source": [
    "## Graficando diferencias\n",
    "\n",
    "Representar gráficamente la diferencia entre las inflamaciones medias registradas en los conjuntos de datos primero y segundo (almacenados en inflamación-01.csv e inflamación-02.csv, respectivamente), es decir, la diferencia entre los gráficos situados más a la izquierda de las dos primeras figuras."
   ]
  },
  {
   "cell_type": "markdown",
   "id": "6b8e379a-a0a8-4217-b7b8-b963fae691a0",
   "metadata": {},
   "source": [
    "## Generar estadísticas compuestas\n",
    "\n",
    "Utiliza cada uno de los archivos para generar un conjunto de datos que contenga los valores promedio de todos los pacientes, completando el código dentro del ciclo que se indica a continuación:"
   ]
  },
  {
   "cell_type": "code",
   "execution_count": null,
   "id": "445ce5fa-829f-4400-bc07-6007a96e24c9",
   "metadata": {},
   "outputs": [],
   "source": [
    "filenames = glob.glob('inflammation*.csv')\n",
    "composite_data = numpy.zeros((60, 40))\n",
    "for filename in filenames:\n",
    "    # sum each new file's data into composite_data as it's read\n",
    "    #\n",
    "# and then divide the composite_data by number of samples\n",
    "composite_data = composite_data / len(filenames)"
   ]
  },
  {
   "cell_type": "markdown",
   "id": "bf742e93-8603-43c9-8817-65daa9af0581",
   "metadata": {},
   "source": [
    "A continuación, utilice **```pyplot```** para generar la media, el máximo y el mínimo de todos los pacientes.\n",
    "\n",
    "Después de analizar el *heatmap* y los gráficos estadísticos, así como de realizar los ejercicios previos, para trazar las diferencias entre los conjuntos de datos y generar estadísticas agregadas de los pacientes, podemos resumir la información sobre los doce conjuntos de datos de los ensayos clínicos.\n",
    "\n",
    "Los conjuntos de datos parecen pertenecer a dos categorías:\n",
    "\n",
    "> + conjuntos de datos aparentemente «ideales» que concuerdan excelentemente con las afirmaciones del Dr. Maverick, pero muestran máximos y mínimos sospechosos (como inflammation-01 .csv e inflammation-02.csv)\n",
    "> + conjuntos de datos «ruidosos» que concuerdan en cierta medida con las afirmaciones del Dr. Maverick, pero muestran problemas preocupantes en la recopilación de datos, como valores perdidos esporádicos e incluso un candidato inadecuado que entra en el ensayo clínico.\n",
    "\n",
    "De hecho, parece que los tres conjuntos de ***datos ruidosos*** (inflamación-03.csv, inflamación-08.csv, e inflamación-11.csv) son idénticos hasta el último valor. Con esta información, nos enfrentamos al Dr. Maverick por los datos sospechosos y los archivos duplicados.\n",
    "\n",
    "El Dr. Maverick ha admitido haber falsificado los datos clínicos de su ensayo farmacológico. Lo hicieron tras descubrir que el ensayo inicial tenía varios problemas, como un registro de datos poco fiable y una mala selección de los participantes. Para demostrar la eficacia de su fármaco, crearon datos falsos. Cuando se les pidieron datos adicionales, intentaron generar más conjuntos de datos falsos, y también incluyeron varias veces el conjunto de datos original de mala calidad para que los ensayos parecieran más realistas.\n",
    "\n",
    "Enhorabuena. Hemos investigado los datos de inflamación y demostrado que los conjuntos de datos se han generado sintéticamente.\n",
    "Pero sería una pena tirar a la basura los conjuntos de datos sintéticos que tanto nos han enseñado ya, así que perdonaremos al imaginario Dr. Maverick y seguiremos utilizando los datos para aprender a programar.\n",
    "\n"
   ]
  },
  {
   "cell_type": "markdown",
   "id": "fbff29ce-05bc-48ec-b7ef-2f2976fb42fb",
   "metadata": {},
   "source": [
    "<div class=\"alert-info\">\n",
    "    \n",
    "## Puntos clave\n",
    "\n",
    "> + Utilice glob.glob(patrón) para crear una lista de archivos cuyos nombres coincidan con un patrón.\n",
    "> + Utilice * en un patrón para que coincida con cero o más caracteres, y ? para que coincida con cualquier carácter.\n",
    "\n",
    "</div>"
   ]
  },
  {
   "cell_type": "markdown",
   "id": "df24a0fa-ff31-4b47-938a-8718b5464e21",
   "metadata": {},
   "source": [
    "<img src=\"img/LogosJuntos.png\"/>"
   ]
  },
  {
   "cell_type": "markdown",
   "id": "3c64844e-5ea3-4e41-93a3-96c8925c490e",
   "metadata": {},
   "source": [
    "<center>\n",
    "            Lección tomada y traducida de <a href=\"https://swcarpentry.github.io/python-novice-inflammation/07-cond.html\" target=\"_blank\">python-novice-inflammation, lección 7</a>\n",
    "        </center>"
   ]
  },
  {
   "cell_type": "markdown",
   "id": "6f99454c-5aae-412c-9459-d2f019b55f58",
   "metadata": {},
   "source": [
    "# Tomando decisiones"
   ]
  },
  {
   "cell_type": "markdown",
   "id": "b7dd4610-0902-4ff1-9292-981f37b103e2",
   "metadata": {},
   "source": [
    "## Pregunta:\n",
    "\n",
    "> ¿Cómo pueden mis programas hacer cosas diferentes en función de los valores de los datos?\n",
    "\n",
    "## Objetivos:\n",
    "> + Escribir enunciados condicionales que incluyan **```if```**, **```elif```** y **```else```**.\n",
    "> + Evaluar correctamente expresiones que contengan **```and```** y **```or```**."
   ]
  },
  {
   "cell_type": "markdown",
   "id": "1b5126ec-c704-4bd8-9023-aa1afb759c90",
   "metadata": {},
   "source": [
    "En nuestra última lección, descubrimos algo sospechoso en nuestros datos de inflamación dibujando algunos gráficos. ¿Cómo podemos usar Python para reconocer automáticamente las diferentes características que vimos, y tomar una acción diferente para cada una? En esta lección aprenderemos a escribir código que se ejecute sólo cuando se cumplan ciertas condiciones."
   ]
  },
  {
   "cell_type": "markdown",
   "id": "9fe44e18-da7d-4805-9165-4396df5bf99c",
   "metadata": {},
   "source": [
    "## Condicionales\n",
    "\n",
    "Podemos indicarle a Python que realice diferentes acciones según una condición utilizando una sentencia **```if```**:"
   ]
  },
  {
   "cell_type": "code",
   "execution_count": null,
   "id": "c0e84a16-198f-407b-87da-3d3127b9ebc2",
   "metadata": {},
   "outputs": [],
   "source": [
    "# preguntando si un número es mayor a 100. De ser así imprimir \"greater\", \n",
    "# de lo contrario imprimir \"not greater\". Pase lo que pase imprimir \"done\" al\n",
    "# final\n",
    "\n",
    "num = 37\n",
    "if num > 100:\n",
    "    print('greater')\n",
    "else:\n",
    "    print('not greater')\n",
    "print('done')"
   ]
  },
  {
   "cell_type": "markdown",
   "id": "05dbff17-4626-40c8-b541-7e797706023c",
   "metadata": {},
   "source": [
    "La segunda línea de este código utiliza la palabra clave **```if```** para indicarle a Python que queremos tomar una decisión. Si la condición que sigue a la sentencia **```if```** es verdadera, se ejecuta el bloque del **```if```** (es decir, el conjunto de líneas indentadas debajo de él) y se imprime ***\"greater\"***. Si la condición es falsa, se ejecuta el bloque de la sentencia **```else```** y se imprime ***\"no greater\"***. Solo se ejecuta uno u otro antes de que el programa continúe y se imprima ***done***."
   ]
  },
  {
   "cell_type": "markdown",
   "id": "18a4e12c-96e4-454c-9ed9-f1784595268c",
   "metadata": {},
   "source": [
    "<figure>\n",
    "    <center><img src=\"img/IfElse.png\" width=400 height=500 /></center>\n",
    "    <figcaption>\n",
    "        <center>\n",
    "            Imagen obtenida de <a href=\"https://swcarpentry.github.io/python-novice-inflammation/07-files.html\" target=\"_blank\">python-novice-inflammation, lección 7</a>\n",
    "        </center>\n",
    "    </figcaption>\n",
    "</figure>\n",
    "\n",
    "Las sentencias condicionales no requieren necesariamente un **```else```**. Si no se incluye, Python simplemente no hace nada cuando la condición es falsa."
   ]
  },
  {
   "cell_type": "code",
   "execution_count": null,
   "id": "3b446845-7640-4f14-9d2b-07cbb423ab8a",
   "metadata": {},
   "outputs": [],
   "source": [
    "# condicional sin else. Imprimiendo \"Antes de la condición...\"\n",
    "# dentro de la condición num, \"es mayor que 100\"\n",
    "# saliendo de la condición \"...después de la condición\"\n",
    "\n",
    "num = 53\n",
    "print('Antes de la condición...')\n",
    "if num > 100:\n",
    "    print(num, 'es mayor que 100')\n",
    "print('...después de la condición')"
   ]
  },
  {
   "cell_type": "markdown",
   "id": "a88166d7-4c9c-464b-accd-8f584206a3d3",
   "metadata": {},
   "source": [
    "También podemos anidar varias pruebas utilizando **```elif```**, que es la abreviatura de **```else if```**. El siguiente código Python utiliza **```elif```** para imprimir el signo de un número."
   ]
  },
  {
   "cell_type": "code",
   "execution_count": null,
   "id": "b3b6a818-dec5-4a69-9c05-4c7a43e26014",
   "metadata": {},
   "outputs": [],
   "source": [
    "# Escribiendo una condicional, para verificar si un número es positivo,\n",
    "# es cero o\n",
    "# es negativo\n",
    "\n",
    "num = -3\n",
    "\n",
    "if num > 0:\n",
    "    print(num, 'es positivo')\n",
    "elif num == 0:\n",
    "    print(num, 'es cero')\n",
    "else:\n",
    "    print(num, 'es negativo')"
   ]
  },
  {
   "cell_type": "markdown",
   "id": "7da91688-bb8c-40bb-bb45-a5b789ac9c2c",
   "metadata": {},
   "source": [
    "> Es importante tener en cuenta que, **para comprobar la igualdad, utilizamos el signo de igualdad doble ==**, en lugar del signo de igualdad simple =, que se usa para asignar valores."
   ]
  },
  {
   "cell_type": "markdown",
   "id": "62dd4779-3f78-4ff4-aa70-d76c956d0546",
   "metadata": {},
   "source": [
    "## Haciendo comparaciones en Python (operadores relacionales)\n",
    "\n",
    "Además, de los operadores **```>```** y **```== ```** que ya hemos utilizado para comparar valores en nuestras condicionales, hay algunas opciones más que conviene conocer:\n",
    "\n",
    "> + **\\>** mayor que\n",
    "> + **<** menor que\n",
    "> + **==** igual\n",
    "> + **!=** diferente\n",
    "> + **\\>=** mayor o igual que\n",
    "> + **<=** menor o igual que"
   ]
  },
  {
   "cell_type": "markdown",
   "id": "fb80e71e-8f7a-4ab3-8e99-a3df0f27acca",
   "metadata": {},
   "source": [
    "También podemos combinar pruebas utilizando **```and```** y **```or```**. **```and```** sólo es verdadera si ambas partes son verdaderas:"
   ]
  },
  {
   "cell_type": "code",
   "execution_count": null,
   "id": "0f1eaf12-3327-4e6f-8e18-207dfa1d174f",
   "metadata": {},
   "outputs": [],
   "source": [
    "# Evaluando dos expresiones utilizando el operador lógico and\n",
    "if (1 > 0) and (-1 >= 0):\n",
    "    print('ambas expresiones son verdaderas')\n",
    "else:\n",
    "    print('al menos una expresión es falsa')"
   ]
  },
  {
   "cell_type": "markdown",
   "id": "07b07273-1ff5-4441-9c66-3ea213fd9186",
   "metadata": {},
   "source": [
    "mientras que **```or```** es verdadera si al menos una parte es verdadera:"
   ]
  },
  {
   "cell_type": "code",
   "execution_count": null,
   "id": "20f51e51-0371-4b6c-bdf2-873300ed744c",
   "metadata": {},
   "outputs": [],
   "source": [
    "# Evaluando dos expresiones utilizando el operador lógico aor\n",
    "if (1 < 0) or (1 >= 0):\n",
    "    print('al menos un enunciado es verdadero')"
   ]
  },
  {
   "cell_type": "markdown",
   "id": "fd5e8145-a874-4ece-94c8-3adf60f2eddb",
   "metadata": {},
   "source": [
    "## TRUE y FALSE\n",
    "\n",
    "**```TRUE```** y **```FALSE```** son palabras especiales en Python llamadas ***booleanos***, que representan valores de verdad. Una sentencia como 1 < 0 devuelve el valor **```FALSE```**, mientras que -1 < 0 devuelve el valor **```TRUE```**."
   ]
  },
  {
   "cell_type": "markdown",
   "id": "c68d5d7a-54a6-43f8-bc14-8508d97b37ff",
   "metadata": {},
   "source": [
    "## Trabajando con nuestros datos\n",
    "\n",
    "Ahora que hemos visto cómo funcionan los condicionales, podemos utilizarlos para verificar las características sospechosas que encontramos en nuestros datos de inflamación. A continuación, vamos a utilizar nuevamente las funciones proporcionadas por el módulo **```numpy```**. Por lo tanto, si estás trabajando en una nueva sesión de Python, asegúrate de cargar tanto el módulo como los datos con:"
   ]
  },
  {
   "cell_type": "code",
   "execution_count": null,
   "id": "7244078d-9f20-400e-8e08-909a7f8142c2",
   "metadata": {},
   "outputs": [],
   "source": [
    "import numpy\n",
    "data = numpy.loadtxt(fname='data/inflammation-01.csv', delimiter=',')"
   ]
  },
  {
   "cell_type": "code",
   "execution_count": null,
   "id": "74777b44",
   "metadata": {},
   "outputs": [],
   "source": []
  },
  {
   "cell_type": "markdown",
   "id": "914c6297-b1ba-487e-ac05-126fa77c5e1b",
   "metadata": {},
   "source": [
    "En los primeros gráficos, observamos que la inflamación máxima diaria presenta un comportamiento extraño, aumentando una unidad por día. ¿No sería una buena idea detectar este comportamiento e informarlo como sospechoso? Vamos a hacerlo, pero en lugar de verificar cada uno de los días del estudio, simplemente comprobemos si la inflamación máxima al principio (día 0) y a la mitad (día 20) del estudio coinciden con los números de los días correspondientes"
   ]
  },
  {
   "cell_type": "code",
   "execution_count": null,
   "id": "8d1dbfd5-6c36-441c-9dc6-105862b470ee",
   "metadata": {},
   "outputs": [],
   "source": [
    "max_inflammation_0 = numpy.amax(data, axis=0)[0]\n",
    "max_inflammation_20 = numpy.amax(data, axis=0)[20]\n",
    "\n",
    "if max_inflammation_0 == 0 and max_inflammation_20 == 20:\n",
    "    print('Valor máximo sospechoso!')"
   ]
  },
  {
   "cell_type": "markdown",
   "id": "f4ede941-18d4-4991-b7d2-a5943eea5a65",
   "metadata": {},
   "source": [
    "También observamos un problema diferente en el tercer conjunto de datos: los valores mínimos diarios eran todos cero (parece que una persona sana se coló en nuestro estudio). Podemos verificarlo también con una condición **```elif```**"
   ]
  },
  {
   "cell_type": "code",
   "execution_count": null,
   "id": "60a8db29-9c04-4aa1-8d61-6cda80ffa97f",
   "metadata": {},
   "outputs": [],
   "source": [
    "elif numpy.sum(numpy.amin(data, axis=0)) == 0:\n",
    "    print('Los mínimos suman cero!')"
   ]
  },
  {
   "cell_type": "markdown",
   "id": "9754ca05-669b-4109-add3-52c79df87b62",
   "metadata": {},
   "source": [
    "Y si ninguna de estas condiciones se cumple, podemos utilizar **```else```** para dar el visto bueno:"
   ]
  },
  {
   "cell_type": "code",
   "execution_count": null,
   "id": "8cb6fac2-b5b2-4c76-96af-27b2b1416152",
   "metadata": {},
   "outputs": [],
   "source": [
    "else:\n",
    "    print('Todo parece OK!')"
   ]
  },
  {
   "cell_type": "markdown",
   "id": "69ffc8c0-3032-4f9f-a0aa-b846af5f0c18",
   "metadata": {},
   "source": [
    "Vamos a probarlo:"
   ]
  },
  {
   "cell_type": "code",
   "execution_count": null,
   "id": "86d5671b-9479-4804-b82c-ac01a2ae6250",
   "metadata": {},
   "outputs": [],
   "source": [
    "### Corriendo para el archivo inflammation-01.csv\n",
    "\n",
    "data = numpy.loadtxt(fname='inflammation-01.csv', delimiter=',')\n",
    "\n",
    "max_inflammation_0 = numpy.amax(data, axis=0)[0]\n",
    "max_inflammation_20 = numpy.amax(data, axis=0)[20]\n",
    "\n",
    "if max_inflammation_0 == 0 and max_inflammation_20 == 20:\n",
    "    print('Valor máximo sospechoso!')\n",
    "elif numpy.sum(numpy.amin(data, axis=0)) == 0:\n",
    "    print('Los mínimos suman cero!')\n",
    "else:\n",
    "    print('Todo parece OK!')"
   ]
  },
  {
   "cell_type": "code",
   "execution_count": null,
   "id": "7f047443-2d96-4c82-808c-ae15a14537fb",
   "metadata": {},
   "outputs": [],
   "source": [
    "### Corriendo para el archivo inflammation-03.csv\n",
    "\n",
    "data = numpy.loadtxt(fname='inflammation-03.csv', delimiter=',')\n",
    "\n",
    "max_inflammation_0 = numpy.amax(data, axis=0)[0]\n",
    "max_inflammation_20 = numpy.amax(data, axis=0)[20]\n",
    "\n",
    "if max_inflammation_0 == 0 and max_inflammation_20 == 20:\n",
    "    print('Valor máximo sospechoso!')\n",
    "elif numpy.sum(numpy.amin(data, axis=0)) == 0:\n",
    "    print('Los mínimos suman cero!')\n",
    "else:\n",
    "    print('Todo parece OK!')"
   ]
  },
  {
   "cell_type": "markdown",
   "id": "3c1d5050-c26b-4c14-9808-1f74588e066b",
   "metadata": {},
   "source": [
    "De este modo, hemos indicado a Python que realice acciones diferentes según la condición de nuestros datos. En este caso, imprimimos mensajes en todos los escenarios, pero también podríamos optar por no usar el bloque **```else```**, de modo que solo se impriman mensajes cuando algo salga mal, lo que nos liberaría de tener que revisar manualmente cada gráfico en busca de características previamente observadas"
   ]
  },
  {
   "cell_type": "markdown",
   "id": "2a0d83a0-5fd6-4841-8d2b-b730d7a3a0de",
   "metadata": {},
   "source": [
    "<div class=\"alert-info\">\n",
    "    \n",
    "## Ejercicios propuestos\n",
    "\n",
    "</div>"
   ]
  },
  {
   "cell_type": "markdown",
   "id": "a59f2821-7ce9-4c18-85f1-8a74ca3863ab",
   "metadata": {},
   "source": [
    "## ¿Cuántos caminos?\n",
    "\n",
    "Considerando el siguiente código:"
   ]
  },
  {
   "cell_type": "code",
   "execution_count": null,
   "id": "f72cdf09-deaf-4657-985f-4b3b15c18943",
   "metadata": {},
   "outputs": [],
   "source": [
    "\n",
    "if 4 > 5:\n",
    "    print('A')\n",
    "elif 4 == 5:\n",
    "    print('B')\n",
    "elif 4 < 5:\n",
    "    print('C')\n",
    "    "
   ]
  },
  {
   "cell_type": "markdown",
   "id": "805dd22c-4c5f-4bd5-bda4-6a90e1505f3b",
   "metadata": {},
   "source": [
    "¿Cuál de las siguientes respuestas se imprimiría si ejecutaras este código? ¿Por qué has elegido esta respuesta?\n",
    "\n",
    "> 1. A\n",
    "> 2. B\n",
    "> 3. C\n",
    "> 4. B y C"
   ]
  },
  {
   "cell_type": "markdown",
   "id": "5a569fec-a6e6-44aa-870a-2b01762eef87",
   "metadata": {},
   "source": [
    "## ¿Qué es verdadero?\n",
    "\n",
    "Los valores booleanos **True** y **False** no son los únicos valores que se consideran como verdadero y falso en Python. De hecho, cualquier valor puede ser evaluado en un **```if```** o **```elif```**. Después de leer y ejecutar el código siguiente, explica cuál es la regla para los valores que se consideran verdaderos y los que se consideran falsos."
   ]
  },
  {
   "cell_type": "code",
   "execution_count": null,
   "id": "77cb7750-32cf-48f9-88dc-f7b8a343e190",
   "metadata": {},
   "outputs": [],
   "source": [
    "\n",
    "if '':\n",
    "    print('Cadena Vacía es TRUE')\n",
    "if 'word':\n",
    "    print('word es TRUE')\n",
    "if []:\n",
    "    print('lista vacía es TRUE')\n",
    "if [1, 2, 3]:\n",
    "    print('lista no vacía es TRUE')\n",
    "if 0:\n",
    "    print('cero es TRUE')\n",
    "if 1:\n",
    "    print('uno es TRUE')\n",
    "    "
   ]
  },
  {
   "cell_type": "markdown",
   "id": "d529130f-1472-4d83-bd0a-0de4bcae14f2",
   "metadata": {},
   "source": [
    "## Eso ```not```es lo que quise decir\n",
    "\n",
    "A veces es útil comprobar si alguna condición **no es verdadera**. El operador booleano **```not```** puede hacer esto explícitamente. Después de leer y ejecutar el código siguiente, escriba algunas sentencias **```if```** que utilicen **```not```** para comprobar la regla que formuló en el reto anterior."
   ]
  },
  {
   "cell_type": "code",
   "execution_count": null,
   "id": "40592a65-62a6-4d62-9660-970a00bdc78f",
   "metadata": {},
   "outputs": [],
   "source": [
    "if not '':\n",
    "    print('La cadena vacía NO es TRUE')\n",
    "if not 'word':\n",
    "    print('word NO es TRUE')\n",
    "if not not True:\n",
    "    print('not NO es TRUE')"
   ]
  },
  {
   "cell_type": "markdown",
   "id": "77e5d273-37ea-4289-95ae-0db724053cac",
   "metadata": {},
   "source": [
    "## Demasiado cerca\n",
    "\n",
    "Escribe algunas condiciones que impriman **```True```** si la diferencia entre la variable **```a```** y **```b```** y es menor o igual al 10% y **```False```** en caso contrario. Compara tu aplicación con la de tu compañero: ¿obtienes la misma respuesta para todos los pares de números posibles?"
   ]
  },
  {
   "cell_type": "markdown",
   "id": "f267ad15-d0e7-475c-b51d-6c23cd5f6a03",
   "metadata": {},
   "source": [
    "## Operadores de *asignación compuesta*\n",
    "\n",
    "Python (y otros lenguajes como C) tienen un conjunto de **operadores** denominados ***de asignación compuesta***, que funcionan de la siguiente forma:"
   ]
  },
  {
   "cell_type": "code",
   "execution_count": null,
   "id": "8a6b8fc5-4cf8-4421-98d3-e816082ac644",
   "metadata": {},
   "outputs": [],
   "source": [
    "x = 1  # valor inicial\n",
    "x += 1 # suma uno a x, y reasigna el resultado a x\n",
    "x *= 3 # multiplica x por tres y reasigna el resultado a x\n",
    "print(x)"
   ]
  },
  {
   "cell_type": "markdown",
   "id": "de9c7c22-6c97-4828-a521-7d3e8f4e229b",
   "metadata": {},
   "source": [
    "Escribe un código que sume, por separado, los números positivos y negativos de una lista utilizando operadores de asignación compuesta. ¿Crees que el resultado es más o menos legible que escribir lo mismo sin operadores de asignación compuesta?"
   ]
  },
  {
   "cell_type": "markdown",
   "id": "bb9b9d9a-fb81-464d-ba0c-7314ccb18434",
   "metadata": {},
   "source": [
    "## Ordenando una lista\n",
    "\n",
    "En la carpeta de datos, los conjuntos de datos grandes se almacenan en archivos cuyos nombres empiezan por \"inflammation-\" y los conjuntos de datos pequeños, en archivos cuyos nombres empiezan por \"small-\", además de otros archivos que no usaremos en este momento. Nos gustaría dividir todos estos archivos en tres listas llamadas archivos_grandes, archivos_pequeños y otros_archivos, respectivamente.\n",
    "Añade código a la plantilla de abajo para realizar esta tarea. Ten en cuenta que el método **```startswith```** devuelve **```True```** si y sólo si la cadena a la que se llama comienza con la cadena pasada como argumento, es decir:"
   ]
  },
  {
   "cell_type": "code",
   "execution_count": 20,
   "id": "5b71be8a-cfdc-4102-94f9-acb1ec1a846c",
   "metadata": {},
   "outputs": [
    {
     "data": {
      "text/plain": [
       "True"
      ]
     },
     "execution_count": 20,
     "metadata": {},
     "output_type": "execute_result"
    }
   ],
   "source": [
    "'String'.startswith('Str')"
   ]
  },
  {
   "cell_type": "markdown",
   "id": "f950c081-5d55-40b4-b207-07d8002a429e",
   "metadata": {},
   "source": [
    "Pero"
   ]
  },
  {
   "cell_type": "code",
   "execution_count": 21,
   "id": "fb40c349-761c-473e-91d5-cde285b9b413",
   "metadata": {},
   "outputs": [
    {
     "data": {
      "text/plain": [
       "False"
      ]
     },
     "execution_count": 21,
     "metadata": {},
     "output_type": "execute_result"
    }
   ],
   "source": [
    "'string'.startswith('Str')"
   ]
  },
  {
   "cell_type": "markdown",
   "id": "85590071-521f-4165-b9b8-a52091d674ca",
   "metadata": {},
   "source": [
    "Utilice el siguiente código Python como punto de partida:"
   ]
  },
  {
   "cell_type": "code",
   "execution_count": null,
   "id": "a4036e99-f4ac-4b63-9de2-08011671ab4d",
   "metadata": {},
   "outputs": [],
   "source": [
    "filenames = ['inflammation-01.csv',\n",
    "         'myscript.py',\n",
    "         'inflammation-02.csv',\n",
    "         'small-01.csv',\n",
    "         'small-02.csv']\n",
    "large_files = []\n",
    "small_files = []\n",
    "other_files = []"
   ]
  },
  {
   "cell_type": "markdown",
   "id": "b4b640c7-4c49-44aa-9bdb-233bd2721589",
   "metadata": {},
   "source": [
    "Tu solución debería:\n",
    "\n",
    "> 1. recorrer los nombres de los archivos\n",
    "> 2. averiguar a qué grupo pertenece cada nombre de fichero\n",
    "> 3. añadir el nombre del fichero a esa lista\n",
    "\n",
    "Al final las tres listas deberían ser:"
   ]
  },
  {
   "cell_type": "raw",
   "id": "3d57941f-26a3-4f9e-9198-6887b2231a8e",
   "metadata": {},
   "source": [
    "large_files = ['inflammation-01.csv', 'inflammation-02.csv']\n",
    "small_files = ['small-01.csv', 'small-02.csv']\n",
    "other_files = ['myscript.py']"
   ]
  },
  {
   "cell_type": "markdown",
   "id": "97e6dcb9-d129-4c30-93ed-5bd8570cf3cc",
   "metadata": {},
   "source": [
    "## Contando las vocales\n",
    "\n",
    "> 1. Escribe un ciclo que cuente el número de vocales de una cadena de caracteres.\n",
    "> 2. Pruébalo con algunas palabras sueltas y frases completas.\n",
    "> 3. Cuando hayas terminado, compara tu solución con la de tu vecino."
   ]
  },
  {
   "cell_type": "markdown",
   "id": "e7e8834e-44f0-44bb-bc06-fa607d62faeb",
   "metadata": {},
   "source": [
    "<div class=\"alert-info\">\n",
    "\n",
    "## Puntos clave\n",
    "\n",
    "> + Utiliza la sentencia ```if``` para iniciar una condición, ```elif``` para añadir condiciones adicionales y ```else``` para proporcionar un valor por defecto.\n",
    "> + Los bloques de las sentencias condicionales deben estar correctamente indentados.\n",
    "> + Usa **==** para comprobar la igualdad.\n",
    "> + La expresión ```X and Y``` es verdadera si tanto X como Y son verdaderos.\n",
    "> + La expresión ```X or Y``` es verdadero si al menos uno de los dos, X o Y, es verdadero.\n",
    "> + El valor cero, las cadenas vacías y las listas vacías se consideran falsos; todos los demás números, cadenas y listas se consideran verdaderos.\n",
    "> + ```True``` y ```False``` representan los valores de verdad.\n",
    "\n",
    "</div>"
   ]
  },
  {
   "cell_type": "markdown",
   "id": "83fb558a-8d89-46fa-8b22-4ceb02ce17d9",
   "metadata": {},
   "source": [
    "<img src=\"img/LogosJuntos.png\"/>"
   ]
  },
  {
   "cell_type": "markdown",
   "id": "8506ff7d-2e0e-46b1-a00a-f3445059b626",
   "metadata": {},
   "source": [
    "<center>\n",
    "            Lección tomada y traducida de <a href=\"https://swcarpentry.github.io/python-novice-inflammation/08-func.html\" target=\"_blank\">python-novice-inflammation, lección 8</a>\n",
    "        </center>"
   ]
  },
  {
   "cell_type": "markdown",
   "id": "8c9545a0-b265-46bf-9795-027797a89e6e",
   "metadata": {},
   "source": [
    "# Creación de funciones"
   ]
  },
  {
   "cell_type": "markdown",
   "id": "c8e9c2a4-6485-4687-9281-8c60a529778d",
   "metadata": {},
   "source": [
    "## Pregunta:\n",
    "\n",
    "> + ¿Cómo puedo definir nuevas funciones?\n",
    "> + ¿Cuál es la diferencia entre definir y llamar una función?\n",
    "> + ¿Qé sucede cuando se llama una función?\n",
    "\n",
    "## Objetivos:\n",
    "> + Definir una función que toma parámetros\n",
    "> + Devolver un valor de una función\n",
    "> + Probar y depurar una función\n",
    "> + Establecer valores por defecto para los parámetros de una función\n",
    "> + Explicar por qué debemos dividir los programas en pequeñas funciones de propósito único."
   ]
  },
  {
   "cell_type": "markdown",
   "id": "cf28b584-cf5f-4421-91c8-603b7cbe783f",
   "metadata": {},
   "source": [
    "En este punto, hemos aprendido que el código puede hacer que Python tome decisiones basadas en los datos que le proporcionamos. ¿Qué sucede si queremos convertir algunos de nuestros datos, por ejemplo, temperaturas de *Fahrenheit* a *Celsius*? Podríamos escribir una instrucción para convertir un solo valor, con base en la formula\n",
    "\n",
    "$Celsius=(temp - 32) \\times \\frac{5}{9}$"
   ]
  },
  {
   "cell_type": "code",
   "execution_count": null,
   "id": "0cc75839-1ec8-46c7-a1b0-ee65e3b7c1a2",
   "metadata": {},
   "outputs": [],
   "source": [
    "fahrenheit_val = 99\n",
    "celsius_val = ((fahrenheit_val - 32) * (5/9))"
   ]
  },
  {
   "cell_type": "markdown",
   "id": "d51a383c-7c4e-4078-a58b-f1afe372837b",
   "metadata": {},
   "source": [
    "y para un segundo número podríamos simplemente copiar la línea y renombrar las variables"
   ]
  },
  {
   "cell_type": "code",
   "execution_count": null,
   "id": "5a57a213-ddcf-4387-b348-c5a35fa20ac3",
   "metadata": {},
   "outputs": [],
   "source": [
    "fahrenheit_val = 99\n",
    "celsius_val = ((fahrenheit_val - 32) * (5/9))\n",
    "\n",
    "fahrenheit_val2 = 43\n",
    "celsius_val2 = ((fahrenheit_val2 - 32) * (5/9))"
   ]
  },
  {
   "cell_type": "markdown",
   "id": "8eaa31c0-bef9-4a2f-9270-babddf05c9b4",
   "metadata": {},
   "source": [
    "Sin embargo, tendríamos problemas si tuviéramos que hacer esto más de un par de veces. Cortar y pegar haría que nuestro código se volviera largo y repetitivo rápidamente. Nos gustaría tener una forma de organizar nuestro código para que sea más fácil de reutilizar, es decir, una forma abreviada de ejecutar bloques de código más largos. En Python, podemos utilizar ***funciones*** para hacer tareas específicas en pequeños bloques de código. Comencemos definiendo una función **```fahr_to_celsius```** que convierta temperaturas de *Fahrenheit* a *Celsius*, considerando que la fórmula para hacer esta conversiónse es:\n",
    "\n",
    "$Celsius=(temp - 32) \\times \\frac{5}{9}$"
   ]
  },
  {
   "cell_type": "code",
   "execution_count": 4,
   "id": "f48798f7-3120-435d-afb5-6677ae6be691",
   "metadata": {},
   "outputs": [],
   "source": [
    "def explicit_fahr_to_celsius(temp):\n",
    "    # Asignando el resultado de la conversión a una variable\n",
    "    converted = ((temp - 32) * (5/9))\n",
    "    # Regresando el valor de converted\n",
    "    return converted\n",
    "    \n",
    "def fahr_to_celsius(temp):\n",
    "    # Regresando el valor convertido de una forma más eficiente utilizando return\n",
    "    # función que no crea una nueva variable. Este código hace lo mismo que la función\n",
    "    # previa, pero es más expliícito en términos de cómo se regresa el valor resultante\n",
    "    return ((temp - 32) * (5/9))"
   ]
  },
  {
   "cell_type": "markdown",
   "id": "798214fb-4ea0-4201-9d92-d5b0065d2a2e",
   "metadata": {},
   "source": [
    "<figure>\n",
    "    <center><img src=\"img/funcion.png\" width=800 height=750 /></center>\n",
    "    <figcaption>\n",
    "        <center>\n",
    "            Imagen obtenida y modificada de <a href=\"https://swcarpentry.github.io/python-novice-inflammation/08-func.html\" target=\"_blank\">python-novice-inflammation, lección 8</a>\n",
    "        </center>\n",
    "    </figcaption>\n",
    "</figure>"
   ]
  },
  {
   "cell_type": "markdown",
   "id": "810a68aa-d826-4556-a387-47f3c7eb1004",
   "metadata": {},
   "source": [
    "La definición de una función comienza con la palabra clave **```def```**, seguida del nombre de la función (**```fahr_to_celsius```**) y una lista entre paréntesis con los nombres de los **parámetros** (por ejemplo, **```temp```**). El cuerpo de la función, las sentencias que se ejecutan cuando se llama a la función, aparece indentado debajo de la línea de definición. El cuerpo finaliza con la palabra clave **```return```**, seguida del valor que la función debe devolver. Cuando llamamos a la función, los valores que le pasamos se asignan a esos parámetros, lo que nos permite utilizarlos dentro de la función. En la función, usamos **```return```** para devolver el resultado al código que hizo la llamada. Intentemos ejecutar nuestra función."
   ]
  },
  {
   "cell_type": "code",
   "execution_count": null,
   "id": "e3920adb-aeb9-4da9-b7cd-acc34edafaa6",
   "metadata": {},
   "outputs": [],
   "source": [
    "## Llamando a la función fahr_to_celsius con el valor de 32\n",
    "fahr_to_celsius(32)"
   ]
  },
  {
   "cell_type": "markdown",
   "id": "83f6f23d-8fa0-4c76-a12f-7475079edf00",
   "metadata": {},
   "source": [
    "Este comando debería **llamar** a nuestra función, utilizando **32** como entrada y devolver el valor de la función.\n",
    "De hecho, **llamar** a nuestra propia función no es diferente de llamar a cualquier otra función:"
   ]
  },
  {
   "cell_type": "code",
   "execution_count": null,
   "id": "2172aa6b-78a2-48bf-9673-de5bd93c43de",
   "metadata": {},
   "outputs": [],
   "source": [
    "print('Punto de congelación del agua:', fahr_to_celsius(32), 'C')\n",
    "print('Punto de ebullición del agua:', fahr_to_celsius(212), 'C')"
   ]
  },
  {
   "cell_type": "markdown",
   "id": "0a7377ec-12ec-46e8-a699-b59eabb03473",
   "metadata": {},
   "source": [
    "Hemos llamado con éxito a la función que hemos definido, y tenemos acceso al valor que ha devuelto."
   ]
  },
  {
   "cell_type": "markdown",
   "id": "0e5aac73-5a47-440c-a82e-290606016450",
   "metadata": {},
   "source": [
    "## Composición de funciones"
   ]
  },
  {
   "cell_type": "markdown",
   "id": "65f334ba-4eda-46a0-840e-e41dd2b1e47a",
   "metadata": {},
   "source": [
    "Ahora que hemos visto cómo convertir *Fahrenheit* a *Celsius*, podemos escribir la función para convertir *Celsius* a *Kelvin*, considerando que la fórmula para realizar esta conversión es:\n",
    "\n",
    "$Kelvin=TempCelcius + 273.15$"
   ]
  },
  {
   "cell_type": "code",
   "execution_count": 2,
   "id": "ca346f07-b17b-496f-bbab-3e559a051020",
   "metadata": {},
   "outputs": [
    {
     "name": "stdout",
     "output_type": "stream",
     "text": [
      "punto de congelación del agua en escala Kelvin: 273.15\n"
     ]
    }
   ],
   "source": [
    "def celsius_to_kelvin(temp_c):\n",
    "    return temp_c + 273.15\n",
    "\n",
    "print('punto de congelación del agua en escala Kelvin:', celsius_to_kelvin(0.))"
   ]
  },
  {
   "cell_type": "markdown",
   "id": "eeb2a4fb-950b-4dc3-87f5-b7aa68a0c9b3",
   "metadata": {},
   "source": [
    "¿Y qué pasa con la conversión de *Fahrenheit* a *Kelvin*? Podríamos escribir la fórmula, pero no es necesario. En su lugar podemos utilizar las dos funciones que ya hemos creado:"
   ]
  },
  {
   "cell_type": "code",
   "execution_count": 5,
   "id": "1e125ffd-7be8-48c9-bb04-07b590a68103",
   "metadata": {},
   "outputs": [
    {
     "name": "stdout",
     "output_type": "stream",
     "text": [
      "punto de ebullición del agua en Kelvin: 373.15\n"
     ]
    }
   ],
   "source": [
    "def fahr_to_kelvin(temp_f):\n",
    "    temp_c = fahr_to_celsius(temp_f)\n",
    "    temp_k = celsius_to_kelvin(temp_c)\n",
    "    return temp_k\n",
    "\n",
    "print('punto de ebullición del agua en Kelvin:', fahr_to_kelvin(212.0))"
   ]
  },
  {
   "cell_type": "markdown",
   "id": "60f52e19-c016-4680-8585-39a02c582c4a",
   "metadata": {},
   "source": [
    "Esta es una primera muestra de cómo se construyen programas más grandes: definimos funciones básicas y luego las combinamos en bloques cada vez más complejos para lograr el efecto que buscamos. Las funciones en programas reales suelen ser más largas que las que mostramos aquí, sin embargo, no deberían ser demasiado, ya que la siguiente persona que las lea podría tener dificultades para entender lo que está haciendo la función."
   ]
  },
  {
   "cell_type": "markdown",
   "id": "d8bd7259-ae88-4bbf-b396-5836dc37f465",
   "metadata": {},
   "source": [
    "## Ámbito de las variables\n",
    "\n",
    "Al hacer nuestras funciones de conversión de temperatura, creamos variables dentro de esas funciones, **```temp```**, **```temp_c```**, **```temp_f```**, y **```temp_k```**. Nos referimos a estas variables como **variables locales** porque solo existen mientras la función se ejecuta. Si intentamos acceder a sus valores fuera de la función, nos encontraremos con un error:"
   ]
  },
  {
   "cell_type": "code",
   "execution_count": null,
   "id": "4614e0c3-0dd5-4d70-b782-76fcc8b2ebb2",
   "metadata": {},
   "outputs": [],
   "source": [
    "print('Muestra de nuevo, la temperatura en Kelvin fue:', temp_k)"
   ]
  },
  {
   "cell_type": "markdown",
   "id": "91866ee5-9e62-4037-a3a8-426fc72ed9db",
   "metadata": {},
   "source": [
    "Si deseas reutilizar el valor de la temperatura en Kelvin después de haberlo calculado con **```fahr_to_kelvin```**, puedes almacenar el resultado de la llamada a la función en una variable:"
   ]
  },
  {
   "cell_type": "code",
   "execution_count": null,
   "id": "f536e455-6d5e-44eb-ae64-98c7a7b18a56",
   "metadata": {},
   "outputs": [],
   "source": [
    "temp_kelvin = fahr_to_kelvin(212.0)\n",
    "print('temperature in Kelvin was:', temp_kelvin)"
   ]
  },
  {
   "cell_type": "markdown",
   "id": "21aa96a3-2724-41e5-bbfd-7e3bd8e03288",
   "metadata": {},
   "source": [
    "La variable **```temp_kelvin```**, al estar definida fuera de cualquier función, se considera una ***variable global***. Dentro de una función, es posible utilizar el valor de estas variables globales:"
   ]
  },
  {
   "cell_type": "code",
   "execution_count": null,
   "id": "de0b82e8-1fdb-463c-a8f6-ad0029ce4ad2",
   "metadata": {},
   "outputs": [],
   "source": [
    "# Utilización de variables globales dentro de una función\n",
    "\n",
    "def print_temperatures():\n",
    "    print('la temperatura en Fahrenheit es:', temp_fahr)\n",
    "    print('la temperatura en Kelvin es:', temp_kelvin)\n",
    "\n",
    "temp_fahr = 212.0\n",
    "temp_kelvin = fahr_to_kelvin(temp_fahr)\n",
    "\n",
    "print_temperatures()"
   ]
  },
  {
   "cell_type": "markdown",
   "id": "32ab4233-810d-43c5-83bc-1935c0c13ffc",
   "metadata": {},
   "source": [
    "## Ordenando o poniendo en orden\n",
    "\n",
    "Ahora que sabemos cómo agrupar fragmentos de código en funciones, podemos hacer que nuestro **análisis de inflamación** sea más legible y reutilizable. En primer lugar, vamos a **crear una función de visualización (que se llame visualize) para generar nuestros gráficos**:"
   ]
  },
  {
   "cell_type": "code",
   "execution_count": null,
   "id": "94efe606-1194-4528-86e9-fc93fd10c17c",
   "metadata": {},
   "outputs": [],
   "source": [
    "## Retomando nuevamente el código de visualización\n",
    "\n",
    "def visualize(filename):\n",
    "\n",
    "    data = numpy.loadtxt(fname=filename, delimiter=',')\n",
    "\n",
    "    fig = matplotlib.pyplot.figure(figsize=(10.0, 3.0))\n",
    "\n",
    "    axes1 = fig.add_subplot(1, 3, 1)\n",
    "    axes2 = fig.add_subplot(1, 3, 2)\n",
    "    axes3 = fig.add_subplot(1, 3, 3)\n",
    "\n",
    "    axes1.set_ylabel('average')\n",
    "    axes1.plot(numpy.mean(data, axis=0))\n",
    "\n",
    "    axes2.set_ylabel('max')\n",
    "    axes2.plot(numpy.amax(data, axis=0))\n",
    "\n",
    "    axes3.set_ylabel('min')\n",
    "    axes3.plot(numpy.amin(data, axis=0))\n",
    "\n",
    "    fig.tight_layout()\n",
    "    matplotlib.pyplot.show()"
   ]
  },
  {
   "cell_type": "markdown",
   "id": "0fed7026-ec64-4117-be6a-ea270116047f",
   "metadata": {},
   "source": [
    "Y otra función llamada **```detect_problems```**, que verifica las inconsistencias que hemos observado en las gráficas:"
   ]
  },
  {
   "cell_type": "code",
   "execution_count": null,
   "id": "dac6c424-0843-43c7-a969-f3667963c5f1",
   "metadata": {},
   "outputs": [],
   "source": [
    "## Retomando el código de validación de datos\n",
    "\n",
    "def detect_problems(filename):\n",
    "\n",
    "    data = numpy.loadtxt(fname=filename, delimiter=',')\n",
    "\n",
    "    if numpy.amax(data, axis=0)[0] == 0 and numpy.amax(data, axis=0)[20] == 20:\n",
    "        print('Valor máximo sospechoso!')\n",
    "    elif numpy.sum(numpy.amin(data, axis=0)) == 0:\n",
    "        print('Los mínimos suman cero!')\n",
    "    else:\n",
    "        print('Todo parece OK!')"
   ]
  },
  {
   "cell_type": "markdown",
   "id": "5640d7d0-4a44-484d-b5c3-f59be23ad164",
   "metadata": {},
   "source": [
    "> **!!Espera¡¡, ¿acaso olvidamos especificar qué deben devolver estas dos funciones?** Pues no, en Python, **las funciones no están obligadas a incluir una sentencia ```return```** y pueden utilizarse con el único propósito de agrupar fragmentos de código que, conceptualmente, realizan una tarea específica. En estos casos, los nombres de las funciones suelen reflejar lo que hacen, por ejemplo, **```visualize```** y **```detect_problems```**. \n",
    "\n",
    "> Observa que, en lugar de combinar todo el código de las funciones en un ciclo **```for```** gigantesco, ahora podemos realizar el análisis anterior utilizando un ciclo **```for```** mucho más simple, ya que se utilizan las funciones definidas."
   ]
  },
  {
   "cell_type": "code",
   "execution_count": null,
   "id": "5ccef9d0-e677-4461-84b2-7a41d9f14479",
   "metadata": {},
   "outputs": [],
   "source": [
    "filenames = sorted(glob.glob('inflammation*.csv'))\n",
    "\n",
    "for filename in filenames[:3]:\n",
    "    print(filename)\n",
    "    visualize(filename)\n",
    "    detect_problems(filename)"
   ]
  },
  {
   "cell_type": "markdown",
   "id": "d598b3e5-4a0c-4481-a97e-fd4905077ccd",
   "metadata": {},
   "source": [
    "Al asignar nombres descriptivos a nuestras funciones, podemos leer y entender más fácilmente lo que está sucediendo en el ciclo ```for```. Mejor aún, si más adelante queremos reutilizar cualquiera de estos fragmentos de código, podemos hacerlo en una sola línea."
   ]
  },
  {
   "cell_type": "markdown",
   "id": "38632bcf-e45e-4292-a48e-1baae7d2b494",
   "metadata": {},
   "source": [
    "## Documentación"
   ]
  },
  {
   "cell_type": "markdown",
   "id": "2ad1309d-c480-4cd0-abb9-de1a1aa780a3",
   "metadata": {},
   "source": [
    "**Añadir documentación a nuestras funciones**, es importante para recordar más adelante su propósito y cómo usarla. La forma habitual de agregar documentación en el software es incluir comentarios como se muestra a continuación en la función fahr_to_kelvin"
   ]
  },
  {
   "cell_type": "code",
   "execution_count": null,
   "id": "aecfcc72-ae13-46c7-9fc1-82c2dcb57449",
   "metadata": {},
   "outputs": [],
   "source": [
    "# fahr_to_kelvin(temp_f):\n",
    "# devuelve la conversión de la temperatura temp_f en grados Fahrenheit a grados Kelvin\n",
    "def fahr_to_kelvin(temp_f):\n",
    "    temp_c = fahr_to_celsius(temp_f)\n",
    "    temp_k = celsius_to_kelvin(temp_c)\n",
    "    return temp_k"
   ]
  },
  {
   "cell_type": "markdown",
   "id": "d5e329e4-b6fd-4bf4-917f-f4538a2e4082",
   "metadata": {},
   "source": [
    "Sin embargo, existe una mejor manera de documentar. Si lo primero en una función es una cadena no asignada a una variable, esa cadena se asocia a la función como su documentación:"
   ]
  },
  {
   "cell_type": "code",
   "execution_count": null,
   "id": "e07b0bb8-727c-4e35-bffa-15bd43a42c4a",
   "metadata": {},
   "outputs": [],
   "source": [
    "def fahr_to_kelvin(temp_f):\n",
    "    \"\"\"devuelve la conversión de la temperatura temp_f en grados Fahrenheit \n",
    "       a grados Kelvin\"\"\"\n",
    "    temp_c = fahr_to_celsius(temp_f)\n",
    "    temp_k = celsius_to_kelvin(temp_c)\n",
    "    return temp_k"
   ]
  },
  {
   "cell_type": "markdown",
   "id": "68f99aee-3cd4-4b38-b18a-7d4a442bbcf0",
   "metadata": {},
   "source": [
    "Esto es mejor porque ahora podemos solicitar al sistema de ayuda integrado de Python que nos muestre la documentación de la función:"
   ]
  },
  {
   "cell_type": "code",
   "execution_count": null,
   "id": "bd6e61ec-0659-41bd-a9da-366fd0e6be77",
   "metadata": {},
   "outputs": [],
   "source": [
    "help(fahr_to_kelvin)"
   ]
  },
  {
   "cell_type": "markdown",
   "id": "0aab0e7c-1a3e-4e29-8222-41d6e41181ec",
   "metadata": {},
   "source": [
    "Una cadena de este tipo se llama **```docstring```**. No es necesario usar comillas triples al escribir la cadena, pero si lo hacemos, podemos dividir la cadena en varias líneas:"
   ]
  },
  {
   "cell_type": "code",
   "execution_count": null,
   "id": "8a508fab-2123-4272-abb7-715bc7da7f82",
   "metadata": {},
   "outputs": [],
   "source": [
    "def fahr_to_kelvin(temp_f):\n",
    "    \"\"\"devuelve la conversión de la temperatura temp_f en grados Fahrenheit \n",
    "       a grados Kelvin\n",
    "\n",
    "       Ejemplos\n",
    "       --------\n",
    "    >>> fahr_to_kelvin(212.0)\n",
    "        373.15\n",
    "       \"\"\"\n",
    "    temp_c = fahr_to_celsius(temp_f)\n",
    "    temp_k = celsius_to_kelvin(temp_c)\n",
    "    return temp_k\n",
    "    \n",
    "help(fahr_to_kelvin)"
   ]
  },
  {
   "cell_type": "markdown",
   "id": "331d5ef9-8464-478c-bbeb-890e239a065a",
   "metadata": {},
   "source": [
    "## Definición de valores por defecto"
   ]
  },
  {
   "cell_type": "markdown",
   "id": "63b7ce53-5070-4e80-b16d-83fef8841bae",
   "metadata": {},
   "source": [
    "Hemos pasado parámetros a funciones de dos maneras: directamente, como en **```type(data)```**, y por nombre, como en **```numpy.loadtxt(fname='algo.csv', delimiter=',')```**. De hecho, podemos pasar el nombre del archivo a **```loadtxt```** sin usar **```fname=:```**"
   ]
  },
  {
   "cell_type": "code",
   "execution_count": null,
   "id": "d499d211-1eeb-4d08-a446-81af17135155",
   "metadata": {},
   "outputs": [],
   "source": [
    "numpy.loadtxt('data/inflammation-01.csv', delimiter=',')"
   ]
  },
  {
   "cell_type": "markdown",
   "id": "de6dda03-c819-4c64-a05a-04ba62c6004c",
   "metadata": {},
   "source": [
    "sin embargo, tenemos que definir **```delimiter=:```**"
   ]
  },
  {
   "cell_type": "code",
   "execution_count": null,
   "id": "8b917f9f-b189-4a53-8bdb-8dc1d8206a1b",
   "metadata": {},
   "outputs": [],
   "source": [
    "numpy.loadtxt('data/inflammation-01.csv', ',')"
   ]
  },
  {
   "cell_type": "markdown",
   "id": "109cec3e-a267-464b-9bc3-6946390f36ab",
   "metadata": {},
   "source": [
    "Para entender lo que está pasando, y hacer que nuestras propias funciones sean más fáciles de usar, vamos a redefinir nuestra función **```fahr_to_kelvin```** de la siguiente manera:"
   ]
  },
  {
   "cell_type": "code",
   "execution_count": null,
   "id": "1991cfe2-2331-4a1d-865b-7b6a9c7a0564",
   "metadata": {},
   "outputs": [],
   "source": [
    "def fahr_to_celsius(temp):\n",
    "    return ((temp - 32) * (5/9))\n",
    "    \n",
    "def celsius_to_kelvin(temp_c):\n",
    "    return temp_c + 273.15\n",
    "    \n",
    "def fahr_to_kelvin(temp_f,printCelsius=0):\n",
    "    \"\"\"devuelve la conversión de la temperatura temp_f en grados Fahrenheit \n",
    "       a grados Kelvin\n",
    "\n",
    "       Ejemplos\n",
    "       --------\n",
    "    >>> fahr_to_kelvin(212.0)\n",
    "        373.15\n",
    "       \"\"\"\n",
    "    temp_c = fahr_to_celsius(temp_f)\n",
    "    temp_k = celsius_to_kelvin(temp_c)\n",
    "    if printCelsius:\n",
    "        print('La temperatura en grados Celsius es: ',temp_c)\n",
    "    return temp_k"
   ]
  },
  {
   "cell_type": "markdown",
   "id": "b6b1687d-e81b-497a-bbfb-4f7bf8705f8f",
   "metadata": {},
   "source": [
    "El cambio clave es que ahora agregamos un segundo parámetro **```printCelsius=0```** en lugar de sólo  **```temp_f```**. Si llamamos a la función con dos argumentos, funciona de la siguiente manera:"
   ]
  },
  {
   "cell_type": "code",
   "execution_count": null,
   "id": "b3be28fb-7175-40b1-b1ec-20ee420574bf",
   "metadata": {},
   "outputs": [],
   "source": [
    "print(\"En Kelvin es:\",fahr_to_kelvin(212.0,1))"
   ]
  },
  {
   "cell_type": "markdown",
   "id": "cdc13749-b417-42b3-84ca-a877117467f8",
   "metadata": {},
   "source": [
    "Pero ahora también podemos llamarlo con un solo parámetro, en cuyo caso a **```printCelsius```** se le asigna automáticamente el valor por defecto de 0:"
   ]
  },
  {
   "cell_type": "code",
   "execution_count": null,
   "id": "42b2c2ac-57bf-4aa2-95c4-5e4d95e3bd3e",
   "metadata": {},
   "outputs": [],
   "source": [
    "print(\"En Kelvin es:\",fahr_to_kelvin(212.0))"
   ]
  },
  {
   "cell_type": "markdown",
   "id": "def1e503-221a-474b-aeb9-233aff7c76ae",
   "metadata": {},
   "source": [
    "Esto es útil cuando queremos que una función permita que se omita un parámetro, proporcionando así un valor por defecto para facilitar el caso más común. El siguiente ejemplo muestra cómo Python asigna los valores a los parámetros:"
   ]
  },
  {
   "cell_type": "code",
   "execution_count": null,
   "id": "86eaec4b-4f90-43a7-bb7c-e2da941e1fa5",
   "metadata": {},
   "outputs": [],
   "source": [
    "def display(a=1, b=2, c=3):\n",
    "    print('a:', a, 'b:', b, 'c:', c)\n",
    "\n",
    "print('sin parámetros:')\n",
    "display()\n",
    "print('con un parámetro:')\n",
    "display(55)\n",
    "print('con dos parámetros:')\n",
    "display(55, 66)"
   ]
  },
  {
   "cell_type": "markdown",
   "id": "a2495726-2390-4b9e-940e-7833c5d3c872",
   "metadata": {},
   "source": [
    "Como se muestra en este ejemplo, los parámetros se asignan de izquierda a derecha, y aquellos que no tienen un valor explícito reciben su valor por defecto. Podemos anular este comportamiento especificando el valor al pasarlo:"
   ]
  },
  {
   "cell_type": "code",
   "execution_count": null,
   "id": "70912d36-626a-4240-9e01-db1dcb44bb0c",
   "metadata": {},
   "outputs": [],
   "source": [
    "print('solo dandole valor a c')\n",
    "display(c=77)"
   ]
  },
  {
   "cell_type": "markdown",
   "id": "ebdeb2ef-bf74-45ac-95eb-dc991c24958a",
   "metadata": {},
   "source": [
    "Con esto en mano, echemos un vistazo a la ayuda de **```numpy.loadtxt```**:"
   ]
  },
  {
   "cell_type": "code",
   "execution_count": null,
   "id": "cd0f6a92-83a4-4499-adbe-d09184311cde",
   "metadata": {},
   "outputs": [],
   "source": [
    "help(numpy.loadtxt)"
   ]
  },
  {
   "cell_type": "markdown",
   "id": "834e858e-4ace-462a-b3d9-03b98acb401d",
   "metadata": {},
   "source": [
    "Aquí hay mucha información, pero lo más importante son las dos primeras líneas. Estas nos dice que **``loadtxt``** tiene un parámetro llamado **```fname```** que no tiene valor por defecto, y otros ocho que sí lo tienen. Si llamamos a la función así:"
   ]
  },
  {
   "cell_type": "code",
   "execution_count": null,
   "id": "38da2915-46a3-45cc-9e14-0510e0e44492",
   "metadata": {},
   "outputs": [],
   "source": [
    "numpy.loadtxt('data/inflammation-01.csv', ',')"
   ]
  },
  {
   "cell_type": "markdown",
   "id": "1ba6295d-cf83-4bf2-945f-9b15aca344a8",
   "metadata": {},
   "source": [
    "Entonces, el nombre del archivo se asigna a **```fname```** (que es lo que queremos), pero la cadena **```delimiter```** ', ' se asigna a **```dtype```** en lugar de a **```delimiter```**, porque **```dtype```** es el segundo parámetro de la lista. Sin embargo, ', ' no es un **```dtype```** válido, lo que genera un mensaje de error cuando intentamos ejecutarlo. Al llamar a **```loadtxt```**, no necesitamos proporcionar **```fname=```** para el nombre del archivo porque es el primer parámetro de la lista. Sin embargo, para que ', ' se asigne a la variable **```delimiter```**, debemos proporcionar **```delimiter=```** para el segundo parámetro, ya que **```delimiter```** no es el segundo parámetro de la lista."
   ]
  },
  {
   "cell_type": "markdown",
   "id": "d62ccd6e-e52e-4ea4-b3c7-b36fcb78f9ec",
   "metadata": {},
   "source": [
    "## Función legible\n",
    "\n",
    "Considera estas dos funciones:"
   ]
  },
  {
   "cell_type": "code",
   "execution_count": null,
   "id": "5af502b0-05e5-4cf6-992f-ef9b01a78423",
   "metadata": {},
   "outputs": [],
   "source": [
    "def s(p):\n",
    "    a = 0\n",
    "    for v in p:\n",
    "        a += v\n",
    "    m = a / len(p)\n",
    "    d = 0\n",
    "    for v in p:\n",
    "        d += (v - m) * (v - m)\n",
    "    return numpy.sqrt(d / (len(p) - 1))\n",
    "\n",
    "def std_dev(sample):\n",
    "    sample_sum = 0\n",
    "    for value in sample:\n",
    "        sample_sum += value\n",
    "\n",
    "    sample_mean = sample_sum / len(sample)\n",
    "\n",
    "    sum_squared_devs = 0\n",
    "    for value in sample:\n",
    "        sum_squared_devs += (value - sample_mean) * (value - sample_mean)\n",
    "\n",
    "    return numpy.sqrt(sum_squared_devs / (len(sample) - 1))"
   ]
  },
  {
   "cell_type": "markdown",
   "id": "e5dc2e43-02bb-4f83-8009-b82db075211c",
   "metadata": {},
   "source": [
    "Las funciones **```s```** y **```std_dev```** son equivalentes desde el punto de vista computacional (ambas calculan la desviación típica muestral), pero para un lector humano parecen muy diferentes. Probablemente, **```std_dev```** sea mucho más fácil de leer y entender que **```s```**.\n",
    "\n",
    "Como ilustra este ejemplo, tanto la **documentación** como el **estilo de codificación** de un programador se combinan para determinar qué tan fácil es para otros leer y entender su código. **Elegir nombres de variables significativos** y utilizar espacios en blanco para **dividir el código en bloques lógicos** son técnicas útiles para producir **código legible**. Esto es valioso no solo para compartir el código con otros, sino también para el programador mismo. Si necesitas revisar un código que escribiste hace meses y en el que no has pensado desde entonces, ¡apreciarás el valor de un código legible y documentado!"
   ]
  },
  {
   "cell_type": "markdown",
   "id": "67b98eb9-aef4-44b4-9c2d-1ea72b9b376a",
   "metadata": {},
   "source": [
    "<div class=\"alert-info\">\n",
    "    \n",
    "## Ejercicios propuestos\n",
    "\n",
    "</div>"
   ]
  },
  {
   "cell_type": "markdown",
   "id": "e860adc1-d8d4-4f9b-90c8-8c7dd3c45c9e",
   "metadata": {},
   "source": [
    "### Combinar cadenas\n",
    "\n",
    "Sumar dos cadenas implica su concatenación, y produce una nueva cadena con ambos valores unidos: por ejemplo, **```\"a\" + \"b\"```** da como resultado **```\"ab\"```**. Ahora, **escribe una función llamada ```fence```** que tome dos parámetros: **```original```** y **```wrapper```**, y devuelva una nueva cadena en la que el carácter**```wrapper```** aparezca al principio y al final de la cadena **```original```**. Una llamada a tu función debería verse de la siguiente manera"
   ]
  },
  {
   "cell_type": "raw",
   "id": "ae3b611e-5c90-46cf-a053-e00a45030ae2",
   "metadata": {},
   "source": [
    "print(fence('name', '*'))"
   ]
  },
  {
   "cell_type": "raw",
   "id": "311fab32-d298-4186-b8f0-e5191605cd85",
   "metadata": {},
   "source": [
    "*name*"
   ]
  },
  {
   "cell_type": "markdown",
   "id": "11b7e092-8756-4de5-89d3-3342a58d00ed",
   "metadata": {},
   "source": [
    "### **```return```** vs **```print```**\n",
    "\n",
    "\n",
    "Tenga en cuenta que **```return```** y **```print```** no son intercambiables. **```print```** es una función de Python que imprime datos en la pantalla. Por otro lado, la sentencia **```return```** devuelve datos al programa, lo que permite que sean utilizados o procesados más adelante. Veamos un ejemplo de función:"
   ]
  },
  {
   "cell_type": "code",
   "execution_count": null,
   "id": "6cb34329-9d9e-4e26-9655-8ab7a251d9b8",
   "metadata": {},
   "outputs": [],
   "source": [
    "def add(a, b):\n",
    "    print(a + b)"
   ]
  },
  {
   "cell_type": "markdown",
   "id": "383b0af0-21a0-4b7c-a33f-a60e6ddaa9de",
   "metadata": {},
   "source": [
    "Pregunta: ¿Qué veremos si ejecutamos los siguientes comandos?"
   ]
  },
  {
   "cell_type": "raw",
   "id": "9b58a1a5-cc9a-432c-8e19-1434efe81883",
   "metadata": {},
   "source": [
    "A = add(7, 3)\n",
    "print(A)"
   ]
  },
  {
   "cell_type": "markdown",
   "id": "627a5228-a00e-470a-b788-905ae4059f71",
   "metadata": {},
   "source": [
    "### Seleccionando caracteres de una cadena\n",
    "\n",
    "Si la variable **```s```** se refiere a una cadena, entonces **```s[0]```** es el primer carácter de la cadena y **```s[-1]```** es el último. **Escribe una función llamada ```outer```** que devuelva una nueva cadena formada únicamente por el primer y el último carácter de la entrada. Una llamada a tu función debería lucir de la siguiente manera:"
   ]
  },
  {
   "cell_type": "raw",
   "id": "845de001-662c-4bed-8b39-5c749f9cf830",
   "metadata": {},
   "source": [
    "print(outer('helium'))"
   ]
  },
  {
   "cell_type": "raw",
   "id": "c7492f08-91e8-4e9a-9386-e36d4dbf60c1",
   "metadata": {},
   "source": [
    "# Salida\n",
    "hm"
   ]
  },
  {
   "cell_type": "markdown",
   "id": "d3be53d6-c70b-49a9-9362-29458fe85229",
   "metadata": {},
   "source": [
    "### Reescalando un vector\n",
    "\n",
    "**Escribe una función llamada ```rescale```** que reciba una matriz como entrada y devuelva una nueva matriz cuyos valores estén escalados para que se encuentren dentro del intervalo de 0.0 a 1.0. (***Sugerencia:*** Si L y H son los valores mínimo y máximo del matriz original, respectivamente, entonces el valor escalado **```v```** se puede calcular como (v - L) / (H - L))."
   ]
  },
  {
   "cell_type": "markdown",
   "id": "b48947e9-4e47-4e50-888a-1e0d92763ba2",
   "metadata": {},
   "source": [
    "### Probando y documentando tu función\n",
    "\n",
    "Ejecuta los comandos **```help(numpy.arange)```** y **```help(numpy.linspace)```** para consultar cómo usar estas funciones y generar valores espaciados regularmente. Luego, utiliza esos valores para probar tu función **```rescale```**. Una vez que hayas probado la función con éxito, agrega un **```docstring```** que explique su funcionamiento."
   ]
  },
  {
   "cell_type": "markdown",
   "id": "98be57e9-f367-4762-ac60-32bf6fe6f1b0",
   "metadata": {},
   "source": [
    "### Definición de valores por defecto\n",
    "\n",
    "**Reescribe la función ```rescale```** para que, por defecto, los datos se escalen entre 0.0 y 1.0. Además, debe permitir al usuario especificar los límites inferior y superior, de escalamiento, si lo desea. Luego, compara tu implementación con la de tu compañero: ¿se comportan ambas funciones de la misma manera en todos los casos?"
   ]
  },
  {
   "cell_type": "markdown",
   "id": "c60fe1c7-c802-4611-8205-5f8fb35f6ba6",
   "metadata": {},
   "source": [
    "### Variables dentro y fuera de las funciones\n",
    "\n",
    "¿Qué muestra el siguiente fragmento de código al ejecutarlo y por qué?"
   ]
  },
  {
   "cell_type": "code",
   "execution_count": null,
   "id": "30d31dd7-a50f-40ad-bfe6-bc709b3e44af",
   "metadata": {},
   "outputs": [],
   "source": [
    "f = 0\n",
    "k = 0\n",
    "\n",
    "def f2k(f):\n",
    "    k = ((f - 32) * (5.0 / 9.0)) + 273.15\n",
    "    return k\n",
    "\n",
    "print(f2k(8))\n",
    "print(f2k(41))\n",
    "print(f2k(32))\n",
    "\n",
    "print(k)"
   ]
  },
  {
   "cell_type": "markdown",
   "id": "67afa448-9186-410c-a98b-38d88c477c5c",
   "metadata": {},
   "source": [
    "### Mezcla de parámetros con valor por defecto y sin valor por defecto\n",
    "\n",
    "Dado el siguiente código:"
   ]
  },
  {
   "cell_type": "code",
   "execution_count": null,
   "id": "a1e04de1-9f45-4570-888a-efabb6a85125",
   "metadata": {},
   "outputs": [],
   "source": [
    "def numbers(one, two=2, three, four=4):\n",
    "    n = str(one) + str(two) + str(three) + str(four)\n",
    "    return n\n",
    "\n",
    "print(numbers(1, three=3))"
   ]
  },
  {
   "cell_type": "markdown",
   "id": "4755a344-73c2-45c1-8d7c-596a1d173f82",
   "metadata": {},
   "source": [
    "¿Qué espera que se imprima? ¿Qué se imprime realmente? ¿Qué regla crees que sigue Python?\n",
    "> 1. 1234\n",
    "> 1. uno2tres4\n",
    "> 1. 1239\n",
    "> 1. SyntaxError\n",
    "\n",
    "¿Qué muestra el siguiente trozo de código cuando se ejecuta?"
   ]
  },
  {
   "cell_type": "code",
   "execution_count": null,
   "id": "92930374-5498-468b-9a37-ad3545c52f09",
   "metadata": {},
   "outputs": [],
   "source": [
    "def func(a, b=3, c=6):\n",
    "    print('a: ', a, 'b: ', b, 'c:', c)\n",
    "\n",
    "func(-1, 2)"
   ]
  },
  {
   "cell_type": "markdown",
   "id": "cc037f65-309a-4285-ae13-c2354a8cede6",
   "metadata": {},
   "source": [
    "> 1. a: b: 3 c: 6\n",
    "> 2. a: -1 b: 3 c: 6\n",
    "> 3. a: -1 b: 2 c: 6\n",
    "> 4. a: b: -1 c: 2"
   ]
  },
  {
   "cell_type": "markdown",
   "id": "6b605bd2-80f7-4ac7-bb13-4e9a310aac39",
   "metadata": {},
   "source": [
    "### Código legible\n",
    "\n",
    "Revisa una función que hayas escrito en ejercicios anteriores y busca maneras de mejorar su legibilidad. Luego, colabora con un compañero para intercambiar comentarios sobre las funciones de ambos y discutir cómo podrían mejorarse para hacerlas aún más claras y fáciles de entender."
   ]
  },
  {
   "cell_type": "markdown",
   "id": "3a9b96cc-7963-499b-9fda-051f1a7a611a",
   "metadata": {},
   "source": [
    "<div class=\"alert-info\">\n",
    "    \n",
    "## Puntos clave:\n",
    "\n",
    "> 1. Para definir una función se utiliza def nombre_función(parámetro).\n",
    "> 2. El cuerpo de una función debe estar debidamente indentado.\n",
    "> 3. Para llamar a una función se usa nombre_función(valor).\n",
    "> 4. Los números pueden almacenarse como enteros o como números de punto flotante.\n",
    "> 5. Las variables definidas dentro de una función sólo son accesibles y utilizables dentro de la función.\n",
    "> 6. Las variables creadas fuera de cualquier función se conocen como variables globales.\n",
    "> 7. Dentro de una función, puedes acceder a las variables globales.\n",
    "> 8. Si una variable local dentro de una función tiene el mismo nombre que una variable global, la variable local \"anula\" la global dentro de la función.\n",
    "> 9. help(cosa), seutiliza para consultar la documentación de cualquier objeto en Python.\n",
    "> 10. Añadir docstrings a las funciones para proporcionar información sobre su propósito y uso.\n",
    "> 11. Se pueden especificar valores por defecto para los parámetros al definir una función, usando name=value en la lista de parámetros.\n",
    "> 12. Los parámetros se pueden pasar a las funciones de tres maneras: por nombre, por posición, o omitiéndolos, en cuyo caso se utilizarán los valores por defecto.\n",
    "> 13. Coloca código que requiera cambios frecuentes de parámetros dentro de una función y luego llama a esa función con diferentes valores para personalizar su comportamiento.\n",
    "\n",
    "</div>"
   ]
  }
 ],
 "metadata": {
  "kernelspec": {
   "display_name": "Python 3 (ipykernel)",
   "language": "python",
   "name": "python3"
  },
  "language_info": {
   "codemirror_mode": {
    "name": "ipython",
    "version": 3
   },
   "file_extension": ".py",
   "mimetype": "text/x-python",
   "name": "python",
   "nbconvert_exporter": "python",
   "pygments_lexer": "ipython3",
   "version": "3.9.19"
  }
 },
 "nbformat": 4,
 "nbformat_minor": 5
}
